{
 "cells": [
  {
   "cell_type": "code",
   "execution_count": null,
   "metadata": {},
   "outputs": [],
   "source": [
    "# Azure Machine Learning ワークスペースを読み込む\n",
    "import os\n",
    "import tensorflow as tf\n",
    "from azureml.core import Workspace\n",
    "\n",
    "ws = Workspace.from_config()\n",
    "print(ws.name, ws.resource_group, ws.location, ws.subscription_id, sep='\\n')\n",
    "print(\"TensorFlow version == {}\".format(tf.__version__))"
   ]
  },
  {
   "cell_type": "code",
   "execution_count": null,
   "metadata": {},
   "outputs": [],
   "source": [
    "# イメージの前処理\n",
    "# ResNet 50 モデルへの入力となるテンソルとして、JPEG 画像を文字列とする \n",
    "import azureml.accel.models.utils as utils\n",
    "tf.reset_default_graph()\n",
    "\n",
    "in_images = tf.placeholder(tf.string)\n",
    "image_tensors = utils.preprocess_array(in_images)\n",
    "print(image_tensors.shape)"
   ]
  },
  {
   "cell_type": "code",
   "execution_count": null,
   "metadata": {},
   "outputs": [],
   "source": [
    "# 特徴抽出器を読み込む\n",
    "# 特徴抽出器として使用される ResNet50 の量子化されたバージョンの TensorFlow チェックポイントをダウンロード\n",
    "from azureml.accel.models import QuantizedResnet50\n",
    "save_path = os.path.expanduser('~/models')\n",
    "model_graph = QuantizedResnet50(save_path, is_frozen=True)\n",
    "feature_tensor = model_graph.import_graph_def(image_tensors)\n",
    "print(model_graph.version)\n",
    "print(feature_tensor.name)\n",
    "print(feature_tensor.shape)"
   ]
  },
  {
   "cell_type": "code",
   "execution_count": null,
   "metadata": {},
   "outputs": [],
   "source": [
    "# 分類子を追加する\n",
    "# ImageNet データ セットでトレーニングされた分類子 classifier を追加 (ここでは再トレーニングは行わない)\n",
    "classifier_output = model_graph.get_default_classifier(feature_tensor)\n",
    "print(classifier_output)"
   ]
  },
  {
   "cell_type": "code",
   "execution_count": null,
   "metadata": {},
   "outputs": [],
   "source": [
    "# モデルを保存する\n",
    "# プリプロセッサ、ResNet 50 特徴抽出器、および分類子を読み込んだ後は、グラフと関連する変数をモデルとして保存\n",
    "model_name = \"resnet50\"\n",
    "model_save_path = os.path.join(save_path, model_name)\n",
    "print(\"Saving model in {}\".format(model_save_path))\n",
    "\n",
    "with tf.Session() as sess:\n",
    "    model_graph.restore_weights(sess)\n",
    "    tf.saved_model.simple_save(sess, model_save_path,\n",
    "                               inputs={'images': in_images},\n",
    "                               outputs={'output_alias': classifier_output})"
   ]
  },
  {
   "cell_type": "code",
   "execution_count": null,
   "metadata": {},
   "outputs": [],
   "source": [
    "# 入出力のテンソルを保存する\n",
    "input_tensors = in_images.name\n",
    "output_tensors = classifier_output.name\n",
    "\n",
    "print(input_tensors)\n",
    "print(output_tensors)"
   ]
  },
  {
   "cell_type": "code",
   "execution_count": null,
   "metadata": {},
   "outputs": [],
   "source": [
    "# モデルの登録\n",
    "# SDK と Azure Blob Storage 内の ZIP ファイルを使用して、モデルを登録\n",
    "from azureml.core.model import Model\n",
    "\n",
    "registered_model = Model.register(workspace=ws,\n",
    "                                  model_path=model_save_path,\n",
    "                                  model_name=model_name)\n",
    "\n",
    "print(\"Successfully registered: \", registered_model.name,\n",
    "      registered_model.description, registered_model.version, sep='\\t')"
   ]
  },
  {
   "cell_type": "code",
   "execution_count": null,
   "metadata": {},
   "outputs": [],
   "source": [
    "# モデルを変換する\n",
    "# TensorFlow グラフを、Open Neural Network Exchange 形式 (ONNX) に変換\n",
    "from azureml.accel import AccelOnnxConverter\n",
    "\n",
    "convert_request = AccelOnnxConverter.convert_tf_model(\n",
    "    ws, registered_model, input_tensors, output_tensors)\n",
    "\n",
    "# If it fails, you can run wait_for_completion again with show_output=True.\n",
    "convert_request.wait_for_completion(show_output=False)\n",
    "\n",
    "# If the above call succeeded, get the converted model\n",
    "converted_model = convert_request.result\n",
    "print(\"\\nSuccessfully converted: \", converted_model.name, converted_model.url, converted_model.version,\n",
    "      converted_model.id, converted_model.created_time, '\\n')"
   ]
  },
  {
   "cell_type": "code",
   "execution_count": null,
   "metadata": {},
   "outputs": [],
   "source": [
    "# Docker イメージを作成する\n",
    "# 変換されたモデルとすべての依存関係を Docker イメージに追加\n",
    "from azureml.core.image import Image\n",
    "from azureml.accel import AccelContainerImage\n",
    "\n",
    "image_config = AccelContainerImage.image_configuration()\n",
    "# Image name must be lowercase\n",
    "image_name = \"{}-image\".format(model_name)\n",
    "\n",
    "image = Image.create(name=image_name,\n",
    "                     models=[converted_model],\n",
    "                     image_config=image_config,\n",
    "                     workspace=ws)\n",
    "image.wait_for_creation(show_output=False)"
   ]
  },
  {
   "cell_type": "code",
   "execution_count": null,
   "metadata": {},
   "outputs": [],
   "source": [
    "# タグ別にイメージを一覧表示し、デバッグ用に詳細ログを取得\n",
    "for i in Image.list(workspace=ws):\n",
    "    print('{}(v.{} [{}]) stored at {} with build log {}'.format(\n",
    "        i.name, i.version, i.creation_state, i.image_location, i.image_build_log_uri))"
   ]
  },
  {
   "cell_type": "code",
   "execution_count": null,
   "metadata": {},
   "outputs": [],
   "source": []
  }
 ],
 "metadata": {
  "kernelspec": {
   "display_name": "Python 3",
   "language": "python",
   "name": "python3"
  },
  "language_info": {
   "codemirror_mode": {
    "name": "ipython",
    "version": 3
   },
   "file_extension": ".py",
   "mimetype": "text/x-python",
   "name": "python",
   "nbconvert_exporter": "python",
   "pygments_lexer": "ipython3",
   "version": "3.7.7"
  }
 },
 "nbformat": 4,
 "nbformat_minor": 4
}
